{
 "cells": [
  {
   "cell_type": "code",
   "execution_count": 1,
   "metadata": {},
   "outputs": [],
   "source": [
    "\n",
    "import csv\n",
    "%matplotlib inline\n",
    "import os\n",
    "import tqdm\n",
    "import time\n",
    "import pickle\n",
    "import numpy as np\n",
    "import copy\n",
    "import matplotlib.pyplot as plt\n",
    "\n",
    "import pandas as pd\n",
    "import array\n",
    "import sklearn\n",
    "from sklearn import linear_model\n",
    "from sklearn.model_selection import train_test_split"
   ]
  },
  {
   "cell_type": "code",
   "execution_count": 2,
   "metadata": {},
   "outputs": [],
   "source": [
    "tic_tac1=[[1,2,3],[4,5,6],[7,8,9]]"
   ]
  },
  {
   "cell_type": "code",
   "execution_count": 3,
   "metadata": {},
   "outputs": [],
   "source": [
    "def print_matrix(tic_tac):\n",
    "    print(\"                       \")\n",
    "    print(tic_tac[0][0],' | ',tic_tac[0][1],' | ',tic_tac[0][2])\n",
    "    print(\"-----------\")\n",
    "    print(tic_tac[1][0],' | ',tic_tac[1][1],' | ',tic_tac[1][2])\n",
    "    print(\"-----------\")\n",
    "    print(tic_tac[2][0],' | ',tic_tac[2][1],' | ',tic_tac[2][2])"
   ]
  },
  {
   "cell_type": "code",
   "execution_count": 4,
   "metadata": {},
   "outputs": [
    {
     "name": "stdout",
     "output_type": "stream",
     "text": [
      "                       \n",
      "1  |  2  |  3\n",
      "-----------\n",
      "4  |  5  |  6\n",
      "-----------\n",
      "7  |  8  |  9\n"
     ]
    }
   ],
   "source": [
    "print_matrix(tic_tac1)"
   ]
  },
  {
   "cell_type": "code",
   "execution_count": 5,
   "metadata": {},
   "outputs": [],
   "source": [
    "def take_input(input_var,tic_tac):\n",
    "    print(\"playing \",input_var)\n",
    "    input_pos=input(\"enter the postion \",)\n",
    "    if isinstance(int(input_pos),int)==False:\n",
    "        take_input(input_var,tic_tac)\n",
    "    else:\n",
    "        input_pos=int(input_pos)\n",
    "        r,c=(input_pos-1)//3,(input_pos-1)%3;\n",
    "        if isinstance(tic_tac[r][c],int):\n",
    "            tic_tac[r][c]=input_var\n",
    "            print_matrix(tic_tac)\n",
    "            return\n",
    "        else :\n",
    "            print(\"abey gandu dekh ke daal\")\n",
    "            take_input(input_var,tic_tac)\n",
    "    "
   ]
  },
  {
   "cell_type": "code",
   "execution_count": 6,
   "metadata": {},
   "outputs": [],
   "source": [
    "def game_end(input_var):\n",
    "    print(\"congrats \",input_var,\"!!!!!\")\n",
    "    s=input(\"do you want to play again[Y/n]??\")\n",
    "    if s==\"Y\" or s==\"y\":\n",
    "        game_play()\n",
    "    elif s==\"N\" or s==\"n\":\n",
    "        exit()\n",
    "    else:\n",
    "        game_end(input_var)\n",
    "        \n"
   ]
  },
  {
   "cell_type": "code",
   "execution_count": 7,
   "metadata": {},
   "outputs": [],
   "source": [
    "def game_play():\n",
    "    \n",
    "    input_var=\"O\"\n",
    "    count=0\n",
    "    player=1\n",
    "    tic_tac=copy.deepcopy(tic_tac1)\n",
    "    print_matrix(tic_tac)\n",
    "    for i in range(9):\n",
    "        take_input(input_var,tic_tac)\n",
    "        count+=1\n",
    "        if input_var==\"X\":\n",
    "            input_var=\"O\"\n",
    "        else: \n",
    "            input_var=\"X\"\n",
    "        if(count>4):\n",
    "            if tic_tac[0][0]==tic_tac[0][1] and tic_tac[0][1]==tic_tac[0][2]:\n",
    "                game_end(player)\n",
    "            elif tic_tac[1][0]==tic_tac[1][1] and tic_tac[1][1]==tic_tac[1][2]:\n",
    "                game_end(player)\n",
    "            elif tic_tac[2][0]==tic_tac[2][1] and tic_tac[2][1]==tic_tac[2][2]:\n",
    "                game_end(player)\n",
    "            elif tic_tac[0][0]==tic_tac[1][0] and tic_tac[0][0]==tic_tac[2][0]:\n",
    "                game_end(player)\n",
    "            elif tic_tac[0][1]==tic_tac[1][1] and tic_tac[0][1]==tic_tac[2][1]:\n",
    "                game_end(player)\n",
    "            elif tic_tac[0][2]==tic_tac[1][2] and tic_tac[0][2]==tic_tac[2][2]:\n",
    "                game_end(player)\n",
    "            elif tic_tac[0][0]==tic_tac[1][1] and tic_tac[0][0]==tic_tac[2][2]:\n",
    "                game_end(player)\n",
    "            elif tic_tac[0][2]==tic_tac[1][1] and tic_tac[0][2]==tic_tac[2][0]:\n",
    "                game_end(player)\n",
    "            \n",
    "        if player==1:\n",
    "            player=2\n",
    "        else:\n",
    "            player=1\n",
    "        if count==9:\n",
    "            t= input(\"do you want to restart the game? [y/n]\")\n",
    "            if t==\"y\" or t==\"Y\":\n",
    "                game_play()"
   ]
  },
  {
   "cell_type": "code",
   "execution_count": 8,
   "metadata": {},
   "outputs": [
    {
     "name": "stdout",
     "output_type": "stream",
     "text": [
      "                       \n",
      "1  |  2  |  3\n",
      "-----------\n",
      "4  |  5  |  6\n",
      "-----------\n",
      "7  |  8  |  9\n",
      "playing  O\n",
      "enter the postion 5\n",
      "                       \n",
      "1  |  2  |  3\n",
      "-----------\n",
      "4  |  O  |  6\n",
      "-----------\n",
      "7  |  8  |  9\n",
      "playing  X\n",
      "enter the postion 3\n",
      "                       \n",
      "1  |  2  |  X\n",
      "-----------\n",
      "4  |  O  |  6\n",
      "-----------\n",
      "7  |  8  |  9\n",
      "playing  O\n",
      "enter the postion 1\n",
      "                       \n",
      "O  |  2  |  X\n",
      "-----------\n",
      "4  |  O  |  6\n",
      "-----------\n",
      "7  |  8  |  9\n",
      "playing  X\n",
      "enter the postion 9\n",
      "                       \n",
      "O  |  2  |  X\n",
      "-----------\n",
      "4  |  O  |  6\n",
      "-----------\n",
      "7  |  8  |  X\n",
      "playing  O\n",
      "enter the postion 6\n",
      "                       \n",
      "O  |  2  |  X\n",
      "-----------\n",
      "4  |  O  |  O\n",
      "-----------\n",
      "7  |  8  |  X\n",
      "playing  X\n",
      "enter the postion 4\n",
      "                       \n",
      "O  |  2  |  X\n",
      "-----------\n",
      "X  |  O  |  O\n",
      "-----------\n",
      "7  |  8  |  X\n",
      "playing  O\n",
      "enter the postion 7\n",
      "                       \n",
      "O  |  2  |  X\n",
      "-----------\n",
      "X  |  O  |  O\n",
      "-----------\n",
      "O  |  8  |  X\n",
      "playing  X\n",
      "enter the postion 2\n",
      "                       \n",
      "O  |  X  |  X\n",
      "-----------\n",
      "X  |  O  |  O\n",
      "-----------\n",
      "O  |  8  |  X\n",
      "playing  O\n",
      "enter the postion 8\n",
      "                       \n",
      "O  |  X  |  X\n",
      "-----------\n",
      "X  |  O  |  O\n",
      "-----------\n",
      "O  |  O  |  X\n",
      "do you want to restart the game? [y/n]n\n"
     ]
    }
   ],
   "source": [
    "game_play()"
   ]
  },
  {
   "cell_type": "code",
   "execution_count": null,
   "metadata": {},
   "outputs": [],
   "source": [
    "tic_tac1"
   ]
  },
  {
   "cell_type": "code",
   "execution_count": null,
   "metadata": {},
   "outputs": [],
   "source": []
  }
 ],
 "metadata": {
  "kernelspec": {
   "display_name": "Python 3",
   "language": "python",
   "name": "python3"
  },
  "language_info": {
   "codemirror_mode": {
    "name": "ipython",
    "version": 3
   },
   "file_extension": ".py",
   "mimetype": "text/x-python",
   "name": "python",
   "nbconvert_exporter": "python",
   "pygments_lexer": "ipython3",
   "version": "3.7.4"
  }
 },
 "nbformat": 4,
 "nbformat_minor": 2
}
